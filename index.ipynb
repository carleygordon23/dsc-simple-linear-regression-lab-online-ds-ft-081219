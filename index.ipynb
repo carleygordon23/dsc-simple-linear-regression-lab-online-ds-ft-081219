{
 "cells": [
  {
   "cell_type": "markdown",
   "metadata": {},
   "source": [
    "# Simple Linear Regression - Lab\n",
    "\n",
    "## Introduction\n",
    "\n",
    "Regression analysis forms the basis of machine learning experiments. Understanding regression will help you to get the foundations of most machine learning algorithms. Ever wondered what's at the heart of an artificial neural network processing unstructured data like music and graphics? It can be linear regression!\n",
    "\n",
    "## Objectives\n",
    "\n",
    "You will be able to:\n",
    "\n",
    "* Calculate the slope of a line using standard slope formula \n",
    "* Calculate the y-intercept using the slope value\n",
    "* Draw a regression line based on calculated slope and intercept\n",
    "* Predict the label of a previously unseen data element\n",
    "\n",
    "\n",
    "\n",
    "## Let's get started\n",
    "\n",
    "A first step towards understanding regression is getting a clear idea about \"linear\" regression and basic linear algebra. \n",
    "\n",
    "In the lesson, we showed the best-fit line's slope $\\hat m$ can be calculated as:\n",
    "\n",
    "$$\\hat m = \\rho \\frac{S_Y}{S_X}$$\n",
    "\n",
    "With $\\rho$ being the correlation coefficient and  ${S_Y}$ and ${S_X}$ The standard deviation of $x$ and $y$ respectively. It can be shown that this is also equal to:\n",
    "\n",
    "$$\\hat m = \\dfrac{\\overline{x}*\\overline{y}-\\overline{xy}}{(\\overline{x})^2-\\overline{x^2}}$$\n",
    "\n",
    "You'll use the latter formula in this lab. As in our previous lab, let's break down the formula into its parts. First, you'll import the required libraries and define some data points to work with. Next, you'll use some pre-created toy data in numpy arrays. Let's do this for you to give you a head start. "
   ]
  },
  {
   "cell_type": "code",
   "execution_count": 1,
   "metadata": {},
   "outputs": [],
   "source": [
    "# import necessary libraries\n",
    "\n",
    "import numpy as np\n",
    "import matplotlib.pyplot as plt\n",
    "from matplotlib import style\n",
    "style.use('ggplot')\n",
    "\n",
    "# Initialize vectors X and Y with given values and create a scatter plot\n",
    "X = np.array([1,2,3,4,5,6,8,8,9,10], dtype=np.float64)\n",
    "Y = np.array([7,7,8,9,9,10,10,11,11,12], dtype=np.float64)"
   ]
  },
  {
   "cell_type": "markdown",
   "metadata": {},
   "source": [
    "## Create a scatter plot between X and Y and comment on the output"
   ]
  },
  {
   "cell_type": "code",
   "execution_count": 4,
   "metadata": {},
   "outputs": [
    {
     "data": {
      "image/png": "[encoded data removed]",
      "text/plain": [
       "<Figure size 432x288 with 1 Axes>"
      ]
     },
     "metadata": {
      "needs_background": "light"
     },
     "output_type": "display_data"
    }
   ],
   "source": [
    "# Scatter plot\n",
    "plt.scatter(X,Y)\n",
    "plt.show()"
   ]
  },
  {
   "cell_type": "code",
   "execution_count": 5,
   "metadata": {},
   "outputs": [],
   "source": [
    "# Your observations about relationship in X and Y \n",
    "\n",
    "# The relationship is very linear but not perfectly linear (positive relationship)\n",
    "# THe best fit line should be able to explain this relationship with very low error\n",
    "\n",
    "#"
   ]
  },
  {
   "cell_type": "markdown",
   "metadata": {},
   "source": [
    "In a data analysis context, we can think of these points as two vectors:\n",
    "\n",
    "* **vector X**: The independent variable or predictor\n",
    "* **vector Y**: The dependent variable or target variable\n",
    "\n",
    "## Write a function `calc_slope()`\n",
    "\n",
    "Write a function `calc_slope()` that takes in x and y vectors and calculates the slope using the formula shown above. "
   ]
  },
  {
   "cell_type": "code",
   "execution_count": 9,
   "metadata": {},
   "outputs": [
    {
     "data": {
      "text/plain": [
       "0.5393518518518512"
      ]
     },
     "execution_count": 9,
     "metadata": {},
     "output_type": "execute_result"
    }
   ],
   "source": [
    "# Write the function to calculate slope as: \n",
    "# (mean(x) * mean(y) – mean(x*y)) / ( mean (x)^2 – mean( x^2))\n",
    "    \n",
    "def calc_slope(xs,ys):\n",
    "    \n",
    "    # Use the slope formula above and calculate the slope\n",
    "    m = (((np.mean(xs)*np.mean(ys)) - np.mean(xs*ys)) /\n",
    "         ((np.mean(xs)**2) - np.mean(xs**2)))\n",
    "    \n",
    "    return m\n",
    "\n",
    "calc_slope(X,Y)\n",
    "\n",
    "# 0.5393518518518512"
   ]
  },
  {
   "cell_type": "markdown",
   "metadata": {},
   "source": [
    "Great, so we have our slope. Next we calculate the intercept. \n",
    "\n",
    "As a reminder, the calculation for the best-fit line's y-intercept is:\n",
    "\n",
    "$$\\hat c = \\overline y - \\hat m \\overline x $$\n",
    "\n",
    "\n",
    "## Write a function best_fit()\n",
    "\n",
    "Write a function `best_fit()` that takes in X and Y, calculates the slope and intercept using the formula. The function should return slope and intercept values. "
   ]
  },
  {
   "cell_type": "code",
   "execution_count": 11,
   "metadata": {},
   "outputs": [
    {
     "data": {
      "text/plain": [
       "(0.5393518518518512, 6.379629629629633)"
      ]
     },
     "execution_count": 11,
     "metadata": {},
     "output_type": "execute_result"
    }
   ],
   "source": [
    "# use the slope function with intercept formula to return calculate slope and intercept from data points\n",
    "\n",
    "def best_fit(xs,ys):\n",
    "    m = calc_slope(xs,ys)\n",
    "    c = np.mean(ys) - (m*np.mean(xs))\n",
    "    return (m, c)\n",
    "\n",
    "# Uncomment below to test your function\n",
    "\n",
    "m, c = best_fit(X,Y)\n",
    "m, c\n",
    "\n",
    "# (0.5393518518518512, 6.379629629629633)"
   ]
  },
  {
   "cell_type": "markdown",
   "metadata": {},
   "source": [
    "We now have a working model with `m` and `c` as model parameters. We can create a line for the data points using the calculated slope and intercept:\n",
    "\n",
    "* Recall that $y = mx + c$. We can now use slope and intercept values along with X data points (features) to calculate the Y data points (labels) of the regression line. \n",
    "\n",
    "## Write a function reg_line()\n",
    "\n",
    "Write a function `reg_line()` that takes in slope, intercept and X vector and calculates the regression line using $y= mx + c$ for each point in X"
   ]
  },
  {
   "cell_type": "code",
   "execution_count": 17,
   "metadata": {},
   "outputs": [],
   "source": [
    "def reg_line (m, c, xs):\n",
    "    \n",
    "    return [(m*x)+c for x in xs]\n",
    "\n",
    "# Uncomment below\n",
    "regression_line = reg_line(m,c,X)"
   ]
  },
  {
   "cell_type": "markdown",
   "metadata": {},
   "source": [
    "## Plot the (x,y) data points and draw the calculated regression line for visual inspection"
   ]
  },
  {
   "cell_type": "code",
   "execution_count": 19,
   "metadata": {},
   "outputs": [
    {
     "data": {
      "image/png": "[encoded data removed]",
      "text/plain": [
       "<Figure size 432x288 with 1 Axes>"
      ]
     },
     "metadata": {
      "needs_background": "light"
     },
     "output_type": "display_data"
    }
   ],
   "source": [
    "# Plot data and regression line\n",
    "plt.scatter(X,Y,color='#003F72', label=\"Data points\")\n",
    "plt.plot(X, regression_line, label= \"Regression Line\")\n",
    "plt.legend()\n",
    "plt.show()"
   ]
  },
  {
   "cell_type": "markdown",
   "metadata": {},
   "source": [
    "So there we have it, our least squares regression line. This is the best fit line and does describe the data pretty well (still not perfect though). \n",
    "\n",
    "## Describe your Model Mathematically and in Words"
   ]
  },
  {
   "cell_type": "code",
   "execution_count": 9,
   "metadata": {
    "collapsed": true
   },
   "outputs": [],
   "source": [
    "# Your answer here\n",
    "\n",
    "# y = 0.53x = 6.37\n",
    "\n",
    "# The line crosses y-axis at 6.37 (shown in the graph) - intercept\n",
    "# The slope of line is 0.53 - a slope 0 would a horizontal line , and slope = 1 would be a vertical one\n",
    "\n"
   ]
  },
  {
   "cell_type": "markdown",
   "metadata": {},
   "source": [
    "## Predicting label for new data\n",
    "\n",
    "So, how might you go about actually making a prediction based on this model you just made?\n",
    "\n",
    "Now that we have a working model with m and b as model parameters. We can fill in a value of x with these parameters to identify a corresponding value of $\\hat y$ according to our model. Recall the formula:\n",
    "\n",
    "$$\\hat y = \\hat mx + \\hat c$$\n",
    "\n",
    "Let's try to find a y prediction for a new value of $x = 7$ and unknown $y$, and plot the new prediction with existing data "
   ]
  },
  {
   "cell_type": "code",
   "execution_count": 20,
   "metadata": {},
   "outputs": [
    {
     "data": {
      "text/plain": [
       "10.155092592592592"
      ]
     },
     "execution_count": 20,
     "metadata": {},
     "output_type": "execute_result"
    }
   ],
   "source": [
    "x_new = 7\n",
    "y_predicted = m*x_new + c\n",
    "y_predicted\n",
    "\n",
    "# 10.155092592592592"
   ]
  },
  {
   "cell_type": "markdown",
   "metadata": {},
   "source": [
    "## Plot the prediction with actual data and regression line "
   ]
  },
  {
   "cell_type": "code",
   "execution_count": 21,
   "metadata": {},
   "outputs": [
    {
     "data": {
      "image/png": "[encoded data removed]",
      "text/plain": [
       "<Figure size 432x288 with 1 Axes>"
      ]
     },
     "metadata": {
      "needs_background": "light"
     },
     "output_type": "display_data"
    }
   ],
   "source": [
    "# Plot as above and show the predicted value\n",
    "plt.scatter(X,Y,color='#003F72', label=\"Data points\")\n",
    "plt.plot(X, regression_line, label= \"Regression Line\")\n",
    "plt.scatter(x_new,y_predicted,color='r',label='Prediction: '+ str(np.round(y_predicted,1)))\n",
    "plt.legend()\n",
    "plt.show()"
   ]
  },
  {
   "cell_type": "markdown",
   "metadata": {},
   "source": [
    "You now know how to create your own models, which is great, but you still haven't answered one very important question: how accurate is our model? This will be discussed next.\n",
    "\n",
    "## Summary\n",
    "\n",
    "In this lesson, you learned how to draw a best fit line for given data labels and features, by first calculating the slope and intercept. The calculated regression line was then used to predict the label ($\\hat y$-value) of a previously unseen feature ($x$-value). The lesson uses a simple set of data points for demonstration."
   ]
  }
 ],
 "metadata": {
  "kernelspec": {
   "display_name": "Python 3",
   "language": "python",
   "name": "python3"
  },
  "language_info": {
   "codemirror_mode": {
    "name": "ipython",
    "version": 3
   },
   "file_extension": ".py",
   "mimetype": "text/x-python",
   "name": "python",
   "nbconvert_exporter": "python",
   "pygments_lexer": "ipython3",
   "version": "3.7.3"
  }
 },
 "nbformat": 4,
 "nbformat_minor": 2
}
